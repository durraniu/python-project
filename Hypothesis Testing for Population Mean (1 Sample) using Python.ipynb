{
 "cells": [
  {
   "cell_type": "code",
   "execution_count": 1,
   "metadata": {
    "collapsed": true
   },
   "outputs": [],
   "source": [
    "# Telling IPython to render plots inside cells\n",
    "%matplotlib inline"
   ]
  },
  {
   "cell_type": "code",
   "execution_count": 2,
   "metadata": {
    "collapsed": false
   },
   "outputs": [],
   "source": [
    "# Importing required Libraries\n",
    "import numpy as np\n",
    "import pandas as pd\n",
    "from scipy import stats\n",
    "import matplotlib as mpl\n",
    "import matplotlib.pyplot as plt\n",
    "import seaborn as sns\n",
    "from IPython.display import display\n",
    "from IPython.display import Image\n",
    "from IPython.display import HTML"
   ]
  },
  {
   "cell_type": "markdown",
   "metadata": {},
   "source": [
    "#Problem Statement "
   ]
  },
  {
   "cell_type": "markdown",
   "metadata": {},
   "source": [
    "Historical record of past three years shows that truck crash rates on 2-Lane roads in a (hypothetical city) of Zreeha is 0.5 crashes per million vehicle-kilometers with a standard deviation of 0.1. After the completion of compulsory refresher driving course for truck drivers, crash rates were recorded at 50 random sites of 2-Lane roads to estimate the current stats. Given the crash rate data in the following section, estimate whether the driving course made any difference in terms of the crash rates."
   ]
  },
  {
   "cell_type": "code",
   "execution_count": 16,
   "metadata": {
    "collapsed": false
   },
   "outputs": [
    {
     "data": {
      "text/html": [
       "<img src=\"truck.jpg\" width=600 height=400/>"
      ],
      "text/plain": [
       "<IPython.core.display.HTML object>"
      ]
     },
     "execution_count": 16,
     "metadata": {},
     "output_type": "execute_result"
    }
   ],
   "source": [
    "HTML('<img src=\"truck.jpg\" width=600 height=400/>')"
   ]
  },
  {
   "cell_type": "markdown",
   "metadata": {},
   "source": [
    "photo credit: <a href=\"http://www.flickr.com/photos/48124311@N04/5139338660\">Two Dead After Multi-vehicle Collision</a> via <a href=\"http://photopin.com\">photopin</a> <a href=\"https://creativecommons.org/licenses/by-sa/2.0/\">(license)</a>"
   ]
  },
  {
   "cell_type": "markdown",
   "metadata": {},
   "source": [
    "## Data Description"
   ]
  },
  {
   "cell_type": "markdown",
   "metadata": {},
   "source": [
    "We have stored data in a data frame (df) which is sort of like a spreadsheet."
   ]
  },
  {
   "cell_type": "code",
   "execution_count": 3,
   "metadata": {
    "collapsed": false
   },
   "outputs": [
    {
     "data": {
      "text/html": [
       "<div style=\"max-height:1000px;max-width:1500px;overflow:auto;\">\n",
       "<table border=\"1\" class=\"dataframe\">\n",
       "  <thead>\n",
       "    <tr style=\"text-align: right;\">\n",
       "      <th></th>\n",
       "      <th>0</th>\n",
       "    </tr>\n",
       "  </thead>\n",
       "  <tbody>\n",
       "    <tr>\n",
       "      <th>0</th>\n",
       "      <td>0.30</td>\n",
       "    </tr>\n",
       "    <tr>\n",
       "      <th>1</th>\n",
       "      <td>0.91</td>\n",
       "    </tr>\n",
       "    <tr>\n",
       "      <th>2</th>\n",
       "      <td>0.69</td>\n",
       "    </tr>\n",
       "    <tr>\n",
       "      <th>3</th>\n",
       "      <td>0.57</td>\n",
       "    </tr>\n",
       "    <tr>\n",
       "      <th>4</th>\n",
       "      <td>0.28</td>\n",
       "    </tr>\n",
       "  </tbody>\n",
       "</table>\n",
       "</div>"
      ],
      "text/plain": [
       "      0\n",
       "0  0.30\n",
       "1  0.91\n",
       "2  0.69\n",
       "3  0.57\n",
       "4  0.28"
      ]
     },
     "execution_count": 3,
     "metadata": {},
     "output_type": "execute_result"
    }
   ],
   "source": [
    "# The raw data values as an array or list\n",
    "df = [0.3, 0.91, 0.69, 0.57, 0.28, 0.86, 0.68, 0.36, 0.83, 0.88, \n",
    "0.76, 0.85, 1.05, 0.7, 0.83, 0.76, 0.51, 0.6, 0.8, 0.71, 1.24, \n",
    "1.09, 0.23, 0.67, 0.97, 0.97, 0.37, 0.31, 0.76, 0.63, 0.91, 0.97, \n",
    "0.4, 0.59, 1.05, 0.57, 0.12, 0.69, 0.86, 0.7, 0.6, 0.69, 0.51, \n",
    "0.72, 1.27, 0.82, 0.43, 0.86, 0.32, 0.83]\n",
    "\n",
    "# Transforming the list to data frame in Pandas\n",
    "df = pd.DataFrame(df)\n",
    "\n",
    "# First five observations\n",
    "df.head()"
   ]
  },
  {
   "cell_type": "code",
   "execution_count": 4,
   "metadata": {
    "collapsed": false
   },
   "outputs": [
    {
     "data": {
      "text/html": [
       "<div style=\"max-height:1000px;max-width:1500px;overflow:auto;\">\n",
       "<table border=\"1\" class=\"dataframe\">\n",
       "  <thead>\n",
       "    <tr style=\"text-align: right;\">\n",
       "      <th></th>\n",
       "      <th>CR</th>\n",
       "    </tr>\n",
       "  </thead>\n",
       "  <tbody>\n",
       "    <tr>\n",
       "      <th>0</th>\n",
       "      <td>0.30</td>\n",
       "    </tr>\n",
       "    <tr>\n",
       "      <th>1</th>\n",
       "      <td>0.91</td>\n",
       "    </tr>\n",
       "    <tr>\n",
       "      <th>2</th>\n",
       "      <td>0.69</td>\n",
       "    </tr>\n",
       "    <tr>\n",
       "      <th>3</th>\n",
       "      <td>0.57</td>\n",
       "    </tr>\n",
       "    <tr>\n",
       "      <th>4</th>\n",
       "      <td>0.28</td>\n",
       "    </tr>\n",
       "  </tbody>\n",
       "</table>\n",
       "</div>"
      ],
      "text/plain": [
       "     CR\n",
       "0  0.30\n",
       "1  0.91\n",
       "2  0.69\n",
       "3  0.57\n",
       "4  0.28"
      ]
     },
     "execution_count": 4,
     "metadata": {},
     "output_type": "execute_result"
    }
   ],
   "source": [
    "# Naming the single column as CR\n",
    "df.columns = ['CR']\n",
    "df.head()"
   ]
  },
  {
   "cell_type": "markdown",
   "metadata": {},
   "source": [
    "Following shows the distribution of crash rates in the sample:"
   ]
  },
  {
   "cell_type": "code",
   "execution_count": 5,
   "metadata": {
    "collapsed": false
   },
   "outputs": [
    {
     "data": {
      "text/plain": [
       "<matplotlib.axes._subplots.AxesSubplot at 0x1859a668>"
      ]
     },
     "execution_count": 5,
     "metadata": {},
     "output_type": "execute_result"
    },
    {
     "data": {
      "image/png": "[encoded data removed]",
      "text/plain": [
       "<matplotlib.figure.Figure at 0x1859a358>"
      ]
     },
     "metadata": {},
     "output_type": "display_data"
    }
   ],
   "source": [
    "# Plotting the distribution of crash rates using seaborn library\n",
    "sns.distplot(df['CR'], axlabel = \"Crash Rate of Trucks on 2-Lane Roads (crashes per million VKMs)\")"
   ]
  },
  {
   "cell_type": "markdown",
   "metadata": {},
   "source": [
    "The distribution looks nearly normal."
   ]
  },
  {
   "cell_type": "markdown",
   "metadata": {},
   "source": [
    "From the given data we got following information:    \n",
    "  \n",
    "* Population mean, $\\mu$ = 0.5   \n",
    "* Population standard deviation, $\\sigma$ = 0.1  \n",
    "* Sample mean, $\\bar{x}$  \n",
    " "
   ]
  },
  {
   "cell_type": "code",
   "execution_count": 6,
   "metadata": {
    "collapsed": false
   },
   "outputs": [
    {
     "name": "stdout",
     "output_type": "stream",
     "text": [
      "0.7016\n"
     ]
    }
   ],
   "source": [
    "xbar = df['CR'].mean()\n",
    "print(xbar)\n"
   ]
  },
  {
   "cell_type": "markdown",
   "metadata": {},
   "source": [
    "* Sample standard deviation, $s$   "
   ]
  },
  {
   "cell_type": "code",
   "execution_count": 7,
   "metadata": {
    "collapsed": false
   },
   "outputs": [
    {
     "name": "stdout",
     "output_type": "stream",
     "text": [
      "0.257961870304\n"
     ]
    }
   ],
   "source": [
    "s = df['CR'].std()\n",
    "print(s)"
   ]
  },
  {
   "cell_type": "markdown",
   "metadata": {},
   "source": [
    "* Number of observations, n = `r nrow(df)`"
   ]
  },
  {
   "cell_type": "code",
   "execution_count": 8,
   "metadata": {
    "collapsed": false
   },
   "outputs": [
    {
     "data": {
      "text/plain": [
       "50.0"
      ]
     },
     "execution_count": 8,
     "metadata": {},
     "output_type": "execute_result"
    }
   ],
   "source": [
    "n = df['CR'].describe()[0]\n",
    "n"
   ]
  },
  {
   "cell_type": "markdown",
   "metadata": {},
   "source": [
    "#### Illustration of Critical values and p-value"
   ]
  },
  {
   "cell_type": "code",
   "execution_count": 19,
   "metadata": {
    "collapsed": false
   },
   "outputs": [
    {
     "data": {
      "text/html": [
       "<img src=\"HT1.png\" width=750 height=500/>"
      ],
      "text/plain": [
       "<IPython.core.display.HTML object>"
      ]
     },
     "execution_count": 19,
     "metadata": {},
     "output_type": "execute_result"
    }
   ],
   "source": [
    "HTML('<img src=\"HT1.png\" width=750 height=500/>')"
   ]
  },
  {
   "cell_type": "markdown",
   "metadata": {},
   "source": [
    "## Has the crash rate increased or decreased after driving course?"
   ]
  },
  {
   "cell_type": "code",
   "execution_count": 9,
   "metadata": {
    "collapsed": false
   },
   "outputs": [
    {
     "name": "stdout",
     "output_type": "stream",
     "text": [
      "0.2016\n"
     ]
    }
   ],
   "source": [
    "# Difference between sample mean and pop mean:\n",
    "print(xbar - 0.5)"
   ]
  },
  {
   "cell_type": "markdown",
   "metadata": {},
   "source": [
    "Looking at the difference of between the sample mean and population mean one might argue that the higher sample mean implies an increase in crash rate by trucks on 2-Lane roads even after the training of drivers.  \n",
    "But as we know that a sample mean is just a mean of a subset of population, it might not be a true representation of population mean. This might be caused due to sampling error (the difference in population and sample means due to chance).   \n",
    "Therefore, we will formulate our null hypothesis as:  \n",
    "  \n",
    "The current population mean of the crash rate of truck drivers on 2-Lane road is 0.5 i.e.     \n",
    "$H_o$: $\\mu$ = 0.5  \n",
    "and the alternative hypothesis would be:  \n",
    "$H_A$: $\\mu$ $\\neq$ 0.5  \n",
    "\n",
    "We will test this hypothesis at 95% confidence level. To understand the theory behind hypothesis testing, consider the figure above and assume that you take infinite random samples (size 50) of crashes on 2-Lane roads in the Zreeha city  and compute mean of each sample. Then you plot a histogram or density of these means. What you get now is the `Sampling Distribution of Sample Means'.  \n",
    "According to the Central Limit Theorem (CLT) the mean of this distribution of sample means will always be equal to the mean of population distribution. Here we are hypothesizing that the mean of the current population is 0.5, similar to historical population of crash rates i.e. there is no difference in the crash rates of drivers even after new training and the observed difference of 0.2016 is simply due to chance.  "
   ]
  },
  {
   "cell_type": "markdown",
   "metadata": {},
   "source": [
    "### Critical Z"
   ]
  },
  {
   "cell_type": "markdown",
   "metadata": {},
   "source": [
    "At 5% significance level (we are tolerating only 5% chance that we reject a null hypothesis when it was infact true) the critical Z value can be computed as:   "
   ]
  },
  {
   "cell_type": "code",
   "execution_count": 10,
   "metadata": {
    "collapsed": false
   },
   "outputs": [
    {
     "name": "stdout",
     "output_type": "stream",
     "text": [
      "0.975\n",
      "1.95996398454\n"
     ]
    }
   ],
   "source": [
    "prob = 1 - (0.05/2)\n",
    "print(prob)\n",
    "\n",
    "# Finding the critical z score using the norm.ppf function in stats library\n",
    "Zcritical = stats.norm.ppf(prob)\n",
    "print(Zcritical)"
   ]
  },
  {
   "cell_type": "markdown",
   "metadata": {},
   "source": [
    "Anything extreme from $\\pm$ 1.96 is considered so extreme that probability of it occuring by chance is very low (less than 5%) and therefore the null hypothesis will be rejected."
   ]
  },
  {
   "cell_type": "markdown",
   "metadata": {},
   "source": [
    "### Test Statistic"
   ]
  },
  {
   "cell_type": "markdown",
   "metadata": {},
   "source": [
    "To see where our sample mean falls we estimate the test statistic **Z**:\n",
    "\n",
    "$$Z = {(\\bar{x} - \\mu)}/{(\\sigma/\\sqrt(n))}$$ "
   ]
  },
  {
   "cell_type": "code",
   "execution_count": 11,
   "metadata": {
    "collapsed": false
   },
   "outputs": [
    {
     "name": "stdout",
     "output_type": "stream",
     "text": [
      "14.2552727087\n"
     ]
    }
   ],
   "source": [
    "Z = (xbar - 0.5) / (0.1 / (50**(1./2)))\n",
    "print(Z)"
   ]
  },
  {
   "cell_type": "markdown",
   "metadata": {},
   "source": [
    "### Conclusion"
   ]
  },
  {
   "cell_type": "markdown",
   "metadata": {},
   "source": [
    "As the test statistic of 14.25 is significantly higher than the critical value of +1.96 we reject the null hypothesis that mean crash rates of trucks on 2-Lane roads in Zreeha are same as its 3 year historical average. However, we are still unsure if the crash rates have increased or decreased. For ensuring that new results are worse we have to do a one-tail test on population mean i.e. $\\mu$ > 0.5.    \n",
    "Another way to reach the same conclusion is to compute the p-value. **p-value** is the probability of getting observed or extreme outcome given the null hypothesis is true. The p-value is also explained in the figure.  \n",
    "If null hypothesis is true than the probability of getting the current data can be computed as:"
   ]
  },
  {
   "cell_type": "code",
   "execution_count": 12,
   "metadata": {
    "collapsed": false
   },
   "outputs": [
    {
     "name": "stdout",
     "output_type": "stream",
     "text": [
      "2.07837650173e-46\n"
     ]
    }
   ],
   "source": [
    "# Finding the probabilities using the norm.cdf function in stats library\n",
    "p029 = stats.norm.cdf(-Z)\n",
    "p070 = 1-stats.norm.cdf(Z)\n",
    "pval = p029 + p070\n",
    "print(pval)"
   ]
  },
  {
   "cell_type": "markdown",
   "metadata": {},
   "source": [
    "Because the p-value is significantly smaller than the level of significance of 0.05, we reject the null hypothesis."
   ]
  },
  {
   "cell_type": "markdown",
   "metadata": {},
   "source": [
    "## Resources"
   ]
  },
  {
   "cell_type": "markdown",
   "metadata": {},
   "source": [
    "* [Learning Python for Data Analysis and Visualization](https://www.udemy.com/learning-python-for-data-analysis-and-visualization/)\n",
    "* [Data Analysis and Statistical Inference course](https://www.coursera.org/course/statistics)\n",
    "* Caldwell, Sally. Statistics unplugged. Cengage Learning, 2012.\n",
    "* [Essential Basic Functionality of Pandas Library](http://pandas.pydata.org/pandas-docs/stable/basics.html)"
   ]
  }
 ],
 "metadata": {
  "kernelspec": {
   "display_name": "Python 2",
   "language": "python",
   "name": "python2"
  },
  "language_info": {
   "codemirror_mode": {
    "name": "ipython",
    "version": 2
   },
   "file_extension": ".py",
   "mimetype": "text/x-python",
   "name": "python",
   "nbconvert_exporter": "python",
   "pygments_lexer": "ipython2",
   "version": "2.7.9"
  }
 },
 "nbformat": 4,
 "nbformat_minor": 0
}
